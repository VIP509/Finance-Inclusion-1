{
  "nbformat": 4,
  "nbformat_minor": 2,
  "metadata": {
    "colab": {
      "name": "Exploratory_Data_Analysis_Template.ipynb",
      "provenance": []
    },
    "kernelspec": {
      "name": "python3",
      "display_name": "Python 3.8.5 64-bit ('base': conda)"
    },
    "language_info": {
      "name": "python",
      "version": "3.8.5",
      "mimetype": "text/x-python",
      "codemirror_mode": {
        "name": "ipython",
        "version": 3
      },
      "pygments_lexer": "ipython3",
      "nbconvert_exporter": "python",
      "file_extension": ".py"
    },
    "interpreter": {
      "hash": "92bd0ae6912c649d295ec8fdde72501389ab96229fa2eaef97fff48b65196f4b"
    }
  },
  "cells": [
    {
      "cell_type": "markdown",
      "source": [
        "# Objective\n",
        "What is the objective or goal that you are trying to accomplish? What is the decision that you must make?"
      ],
      "metadata": {
        "id": "lsDrM8l-04op"
      }
    },
    {
      "cell_type": "markdown",
      "source": [
        "The objective of this project is to determine if machine learning algorithms can help classify individuals on a mobile network according to the probability of using mobile money and financial services. Financial Services providers  and mobile network operators can use the model’s prediction for data-driven decisions on marketing strategies like boosting and promoting  to better target their audience.\r\n",
        "\r\n",
        "\r\n",
        "A key goal of the project is to establish whether or not demographic and socio-economic drivers exist that make it more or less likely that an individual will use mobile money and other financial services ?"
      ],
      "metadata": {
        "id": "w-GUhxgN00RG"
      }
    },
    {
      "cell_type": "markdown",
      "source": [
        "# Hypothesis: Research Question?\n",
        " What is the question that you would like to answer in order to make a decision."
      ],
      "metadata": {
        "id": "8Fv7ykXU0_I5"
      }
    },
    {
      "cell_type": "markdown",
      "source": [
        "Is it possible to use demographic and socio-economic variables to induce a model that can accurately predict the probability that an individual will use mobile money and other financial services ?"
      ],
      "metadata": {
        "id": "jJRBPtaDDoJP"
      }
    },
    {
      "cell_type": "markdown",
      "source": [
        "# Data Source\r\n",
        "Explain where did you get the data. How can you trust this data? Who produced this data and what were their motiviations?\r\n"
      ],
      "metadata": {
        "id": "9pBreNBF1FgG"
      }
    },
    {
      "cell_type": "markdown",
      "source": [
        "I have obtained this data trough Finmark trust database.  [Finmark Trust Data Portal](https://finmark.org.za/data-portal/HTI)\r\n",
        "\r\n",
        "\r\n",
        "FinMark Trust is an independent non-profit trust with the purpose of ‘Making financial markets work for the poor, by promoting financial inclusion and regional financial integration. We pursue our core objective of making financial markets work for the poor through two principal programmes. The first happens through the creation and analysis of financial services demand side data to provide in-depth insights on both served and unserved consumers across the developing world. The second is through systematic financial sector inclusion and deepening programmes to overcome regulatory, supplier, and other market level barriers hampering the effective provision of services.\r\n",
        "\r\n",
        "\r\n",
        "FMT's mission of making financial markets work for the poor extends to ensuring economic inclusivity and linking financial inclusion to the real economy. This renewed focus of building inclusive financial sectors for individuals, MSME’s and small-scale farmers is robust and supported within the FMT development framework.\r\n",
        "\r\n"
      ],
      "metadata": {}
    },
    {
      "cell_type": "markdown",
      "source": [
        "# Data Cleaning\r\n",
        "In this step you will prepare your data for analysis.\r\n",
        "\r\n",
        "## Review data types\r\n",
        "Inspect the dataset for the data types of each column.\r\n",
        "\r\n",
        "## Analytical Transformations\r\n",
        "Perform any transformation on the columns in the dataset to enable further analysis.\r\n",
        "\r\n",
        "### Treatment of Missing Values\r\n",
        "If there are any missing values, how do you plan to treat those data columns?"
      ],
      "metadata": {
        "id": "LdBQ_GkJ1xX0"
      }
    },
    {
      "cell_type": "markdown",
      "source": [
        "# 1. Exploratory Data Analysis\r\n",
        "\r\n",
        "## Objectives :\r\n",
        "- Understand our data as well as possible \r\n",
        "- Develop a first modeling strategy \r\n",
        "\r\n",
        "## Checklist\r\n",
        "#### Shape analysis :\r\n",
        "- **Target** : Not in the dataset we will have to create it\r\n",
        "- **Rows and columns** : 4269 , 35 \r\n",
        "- **Types of variables** : Due the spss file, our dataset columns label are already encoded. 35 float columns\r\n",
        "- **Analyis of the Nan values** :\r\n",
        "    - 7 columns of our dataset has a Nan percentage over 40% -> Columns about money transactions made with cellphone\r\n",
        "\r\n",
        "#### Analysis :\r\n",
        "- **Target Creation** :\r\n",
        " 0 :'No Access to financial services at all ' , \r\n",
        " 1 : 'Access to mobile money' , \r\n",
        " 2 :'Access to bank Financial Services not mobile money', \r\n",
        " 3 : 'Access to Financial services (All)' \r\n",
        " To avoid multicollinearitry, we must drop the column that help us build our target variable.\r\n",
        "  \r\n",
        "- **Target visualization** :\r\n",
        "    - 72% of the people surveyed do not have access to financial services (3075 / 4269)\r\n",
        "    \r\n",
        "    \r\n",
        "    \r\n",
        "- **Meaning of the variables** :\r\n",
        "    -  standardized continuous variables, distribution non-normal, skewed, Age . we will discretized it\r\n",
        "    - variable qualitative : binaire (0, 1),  gouvernement ID, transactions made,communication devices used , financial services used\r\n",
        "\r\n",
        "\r\n",
        "\r\n",
        "- **Relationship Variables / Target** :\r\n",
        "    - target / departement : Is there a difference between the people surveyed depending on where they live amd their access to financial services ? -> hypothesis to be tested\r\n",
        "    - target/age : Are older individuals less financially included? -> \r\n",
        "    - Target / Income : Does the level of income have an impact on the target ?\r\n",
        "    - Target and access to government Id\r\n",
        "    - Target/ Communication Device\r\n",
        "\r\n",
        "    \r\n",
        "    \r\n",
        "## Analyse plus détaillée\r\n",
        "\r\n",
        "- **Relation Variables / Variables** :\r\n",
        "    - Relationship betwwen ID card and departememt\r\n",
        "    - level of education / access to communication devices\r\n",
        "\r\n",
        "    \r\n",
        "\r\n",
        "\r\n",
        "- **NaN analyse** :\r\n",
        "\r\n",
        "\r\n",
        "\r\n",
        "\r\n",
        "    "
      ],
      "metadata": {}
    },
    {
      "cell_type": "markdown",
      "source": [
        "## Importing the dataset"
      ],
      "metadata": {}
    },
    {
      "cell_type": "code",
      "execution_count": null,
      "source": [
        "import pandas as pd\r\n",
        "import numpy as np \r\n",
        "import matplotlib.pyplot as plt\r\n",
        "import seaborn as sns\r\n",
        "plt.style.use('ggplot')\r\n",
        "import pyreadstat\r\n",
        "from scipy.stats import chi2_contingency\r\n",
        "from sklearn import preprocessing,  metrics, tree, svm\r\n",
        "from sklearn.ensemble import RandomForestClassifier\r\n",
        "from sklearn.linear_model import LogisticRegression\r\n",
        "from sklearn.metrics import f1_score, accuracy_score, precision_score,recall_score, confusion_matrix,classification_report,plot_confusion_matrix\r\n",
        "from sklearn.model_selection import cross_val_score, KFold,train_test_split \r\n",
        "from sklearn.svm import LinearSVC \r\n",
        "from sklearn.model_selection import cross_val_predict\r\n",
        "import time\r\n",
        "from sklearn.neighbors import KNeighborsClassifier\r\n",
        "from sklearn.naive_bayes import GaussianNB\r\n",
        "from yellowbrick.classifier import ClassificationReport, ROCAUC, ClassBalance,  ConfusionMatrix,DiscriminationThreshold"
      ],
      "outputs": [],
      "metadata": {
        "id": "E9L98pYKDpCb"
      }
    },
    {
      "cell_type": "markdown",
      "source": [
        "## Loading the dataset"
      ],
      "metadata": {}
    },
    {
      "cell_type": "code",
      "execution_count": null,
      "source": [
        "df1, meta = pyreadstat.read_sav('FinScope Haiti 2018 - 7 Feb 2020.sav',usecols=['departement','q09','npers','a11','a12','a13','a14aa','a14ba','a16__1',\t'a16__2','a16__3'\t,'a16__4'\t,'a16__5','c9','e2__1',\t'e2__2','e2__5','e3__1',\t'e3__2',\t'e3__3','e6__1','e6__3'\t,'e6__5',\t'e6__99','f1','f8','f9a','j2a','j5a__13','j5a__6','j5a__12','j5a__2','l1__1',\t'l1__2','l2a__1','l2a__2'],user_missing=True)"
      ],
      "outputs": [],
      "metadata": {}
    },
    {
      "cell_type": "code",
      "execution_count": null,
      "source": [
        "df1.shape"
      ],
      "outputs": [],
      "metadata": {}
    },
    {
      "cell_type": "code",
      "execution_count": null,
      "source": [
        "df1.dtypes.value_counts()"
      ],
      "outputs": [],
      "metadata": {}
    },
    {
      "cell_type": "markdown",
      "source": [
        "### Renaming the columns of the dataset"
      ],
      "metadata": {}
    },
    {
      "cell_type": "code",
      "execution_count": null,
      "source": [
        "df1"
      ],
      "outputs": [],
      "metadata": {}
    },
    {
      "cell_type": "code",
      "execution_count": null,
      "source": [
        "my_dict = {}\r\n",
        "for col in df1.columns:\r\n",
        "    my_dict[col] = meta.column_names_to_labels[col]\r\n"
      ],
      "outputs": [],
      "metadata": {}
    },
    {
      "cell_type": "code",
      "execution_count": null,
      "source": [
        "df1.rename(columns = my_dict, inplace= True)"
      ],
      "outputs": [],
      "metadata": {}
    },
    {
      "cell_type": "markdown",
      "source": [
        "## Retrieving informations about the dataset"
      ],
      "metadata": {}
    },
    {
      "cell_type": "code",
      "execution_count": null,
      "source": [
        "df1 = df1[df1.columns[(df1.isna().sum()/df1.shape[0] < 0.9)]]"
      ],
      "outputs": [],
      "metadata": {}
    },
    {
      "cell_type": "code",
      "execution_count": null,
      "source": [
        "df1.dtypes.value_counts()"
      ],
      "outputs": [],
      "metadata": {}
    },
    {
      "cell_type": "code",
      "execution_count": null,
      "source": [
        "df1.info()"
      ],
      "outputs": [],
      "metadata": {}
    },
    {
      "cell_type": "markdown",
      "source": [
        "## Defining functions to perform transformation on the data "
      ],
      "metadata": {}
    },
    {
      "cell_type": "code",
      "execution_count": null,
      "source": [
        "def target(x) : \r\n",
        "    '''\r\n",
        "    We are defining this function to build our target variable \r\n",
        "    @ x : Columns in the dataset that will us build our target variable \r\n",
        "    '''\r\n",
        "    if x[0] + x[1] + x[2] + x[3]+ x[4] + x[5]   == 0 :\r\n",
        "        return 0\r\n",
        "    elif x[0] + x[1]  >=1 and x[2] + x[3] + x[4] + x[5]   == 0   :\r\n",
        "        return 1\r\n",
        "    elif x[0] + x[1] == 0 and x[6] >= 1 :\r\n",
        "        return 2\r\n",
        "    elif x[0] + x[1] >=1 and x[2] + x[3] + x[4] + x[5]  >= 1 :\r\n",
        "        return 3   \r\n",
        "    elif     x[2] + x[3] + x[4] + x[5] >= 1 : \r\n",
        "        return 2\r\n",
        "    elif     x[2] + x[3] + x[4] + x[5]  == 0 : \r\n",
        "        return 0   \r\n",
        "    else :\r\n",
        "        return 5\r\n",
        "\r\n",
        "ano = {0 :'No Access to financial services at all ' , \r\n",
        " 1 : 'Access to mobile money only' , \r\n",
        " 2 :'Access to formal bank Financial Services ', \r\n",
        " 3 : 'Access to Financial services (All)'}            \r\n",
        "       "
      ],
      "outputs": [],
      "metadata": {}
    },
    {
      "cell_type": "code",
      "execution_count": null,
      "source": [
        "def relabel1(data  = None,columns = None) :\r\n",
        "    '''\r\n",
        "    This function defined here is to relabel the variable in the columns where No == 2\r\n",
        "    '''\r\n",
        "    for col in columns :\r\n",
        "        data[col] = data[col].apply(lambda x : 0 if x == 2 else 1)\r\n"
      ],
      "outputs": [],
      "metadata": {}
    },
    {
      "cell_type": "code",
      "execution_count": null,
      "source": [
        "def plot_bar(data  = None , columns = None, title = None ,hue = None , labels = None ) : \r\n",
        "    \r\n",
        "    sns.set_style(\"dark\")  \r\n",
        "    ax = sns.countplot(data = data, x = columns ,hue =hue,palette='Blues_d')\r\n",
        "    fig = plt.gcf()\r\n",
        "    fig.set_size_inches(20, 10)\r\n",
        "    plt.legend(title= title, loc='upper right', labels = labels)\r\n",
        "    ax.set_xticklabels(['No Access to financial services at all ' , 'Access to mobile money' , 'Access to Financial Services not mobile money', 'Access to Financial services (All)'] )\r\n",
        "    for p in ax.patches:\r\n",
        "        percentage = '{:.2f}%'.format(p.get_height()/len(data)*100)\r\n",
        "        x = p.get_x() + p.get_width()/2  -0.02\r\n",
        "        y = p.get_y() + p.get_height()/2\r\n",
        "        ax.annotate(percentage, (x, y), clip_on=True, weight='bold', color='white', fontsize=14)"
      ],
      "outputs": [],
      "metadata": {}
    },
    {
      "cell_type": "code",
      "execution_count": null,
      "source": [
        "def bar1( num = None, title  = None ) : \r\n",
        "    p2 = df1[df1['Y'] == num]['DEPARTMENT' ].value_counts().to_frame()\r\n",
        "    department_count = pd.merge(depart,p2, how = 'right', left_on  = depart.index,right_on  = p2.index).sort_values(by='DEPARTMENT',ascending =False)[[0,'DEPARTMENT']]\r\n",
        "    department_count\r\n",
        "    sns.barplot( x = 'DEPARTMENT' , y = 0 ,  data = department_count ,  palette=\"Blues_d\")\r\n",
        "    plt.title(title)"
      ],
      "outputs": [],
      "metadata": {}
    },
    {
      "cell_type": "markdown",
      "source": [
        "## Transforming the data "
      ],
      "metadata": {}
    },
    {
      "cell_type": "code",
      "execution_count": null,
      "source": [
        "df1['C9. What is your TOTAL PERSONAL MONTHLY INCOME'] =  df1['C9. What is your TOTAL PERSONAL MONTHLY INCOME'].apply(lambda x : 0 if (x == 98) | (x == 99)  else x)"
      ],
      "outputs": [],
      "metadata": {}
    },
    {
      "cell_type": "markdown",
      "source": [
        "Creating Our Target Variable "
      ],
      "metadata": {}
    },
    {
      "cell_type": "code",
      "execution_count": null,
      "source": [
        "df1['Y'] = df1[['L2a. Have you used the Mobile money services of (name of service provider )?:Mon Cash','L2a. Have you used the Mobile money services of (name of service provider )?:Lajan Cash', 'j5a. We are now talking about transactions Which of the following transactions have you done in the past 12 months:Internet/online banking transaction', 'j5a. We are now talking about transactions Which of the following transactions have you done in the past 12 months:Mobile banking transaction',  'j5a. We are now talking about transactions Which of the following transactions have you done in the past 12 months: Deposit cash into a bank account', 'j5a. We are now talking about transactions Which of the following transactions have you done in the past 12 months: Used cash point/ATM','J2a. Do you currently have a bank account in your name in a bank or credit institution ? It could also be a joint/group account on which your name appears?']].apply(target,axis = 1)"
      ],
      "outputs": [],
      "metadata": {}
    },
    {
      "cell_type": "code",
      "execution_count": null,
      "source": [
        "df1['E6. For which of the following activities do you use your mobile phone?: None (single mention only)']=df1['E6. For which of the following activities do you use your mobile phone?: None (single mention only)'].fillna(1)"
      ],
      "outputs": [],
      "metadata": {}
    },
    {
      "cell_type": "code",
      "execution_count": null,
      "source": [
        "df1 = df1.fillna(0)"
      ],
      "outputs": [],
      "metadata": {}
    },
    {
      "cell_type": "code",
      "execution_count": null,
      "source": [
        "relabel1(df1, columns = ['A1.4ba. Do you have a Job? (Work carried out for third parties in exchange for a','A1.1. Enumerator: Register sex; ask only of you are uncertain','F9a During the last 12 months, have you received money from a person living abroad?',' In the past 12 months that is since (current month) 2016, have you sent money to someone within the country?','People also receive money from time to time. During the last 12 months, have you received money from a person living within the country?','J2a. Do you currently have a bank account in your name in a bank or credit institution ? It could also be a joint/group account on which your name appears?','Residence stratum'])"
      ],
      "outputs": [],
      "metadata": {}
    },
    {
      "cell_type": "code",
      "execution_count": null,
      "source": [
        "df1['age_bins'], bins_dist = pd.qcut(df1['A1.2. How old are you?'],14,labels = [0,1,2,3,4,5,6,7,8,9,10,11,12,13], retbins= True)"
      ],
      "outputs": [],
      "metadata": {}
    },
    {
      "cell_type": "code",
      "execution_count": null,
      "source": [
        "df1['Y'].value_counts()\r\n",
        "\r\n"
      ],
      "outputs": [],
      "metadata": {}
    },
    {
      "cell_type": "markdown",
      "source": [
        "# Data Analysis\r\n",
        "Explore the dataset to discover relationships between records or columns and patterns within the data.\r\n",
        "\r\n",
        "## Descriptive Statistical Analysis\r\n",
        "Using basic statistical measures such as measurements of central tendancy such as mean, median and mode.\r\n",
        "\r\n",
        "### Distribution of Variables\r\n",
        "Identify the distribution of the data to understand the range of values and how the data is structured.\r\n",
        "\r\n",
        "### Outliers in the dataset\r\n",
        "Identify if there are any outliers in the dataset based on statistical measures."
      ],
      "metadata": {
        "id": "WHp-JTxP10Uu"
      }
    },
    {
      "cell_type": "markdown",
      "source": [
        "* Location of the people surveyed"
      ],
      "metadata": {}
    },
    {
      "cell_type": "code",
      "execution_count": null,
      "source": [
        "p ={ 1: 'Ouest',2.0: 'Artibonite', 3.0: 'Centre', 4.0: 'GrandAnse', 5.0: 'Nippes', 6.0: 'Nord', 7.0: 'Nord-Est', 8.0: 'Nord-Ouest', 9.0: 'Reste-Ouest', 10.0: 'Sud', 11.0: 'Sud-Est'}"
      ],
      "outputs": [],
      "metadata": {}
    },
    {
      "cell_type": "code",
      "execution_count": null,
      "source": [
        "depart = pd.DataFrame.from_dict(p,orient='index')"
      ],
      "outputs": [],
      "metadata": {}
    },
    {
      "cell_type": "code",
      "execution_count": null,
      "source": [
        "from scipy.stats import shapiro\r\n",
        "statistic,pvalue=shapiro(df1['A1.2. How old are you?'])\r\n",
        "alpha = 0.05\r\n",
        "print('The Shapiro Wilk Test for the whole dataset')\r\n",
        "print(pvalue)\r\n",
        "if pvalue > alpha:\r\n",
        "\tprint('ho Distribution follows a gaussian distribution (fail to reject H0)')\r\n",
        "else:\r\n",
        "\tprint('h1 Distribution doesnt follows a gaussian distribution  (reject H0)')\r\n"
      ],
      "outputs": [],
      "metadata": {}
    },
    {
      "cell_type": "markdown",
      "source": [
        "* Descriptive Analysis "
      ],
      "metadata": {}
    },
    {
      "cell_type": "code",
      "execution_count": null,
      "source": [
        "bins = 50\r\n",
        "sns.boxplot(df1['A1.2. How old are you?'])#,bins = bins,kde = True)"
      ],
      "outputs": [],
      "metadata": {}
    },
    {
      "cell_type": "code",
      "execution_count": null,
      "source": [
        "df1[df1['Y'] == 0][['Number of people in household','A1.2. How old are you?']].describe()"
      ],
      "outputs": [],
      "metadata": {}
    },
    {
      "cell_type": "markdown",
      "source": [
        "* People who have no access to financial services"
      ],
      "metadata": {
        "id": "gzOqBRtwDpx0"
      }
    },
    {
      "cell_type": "code",
      "execution_count": null,
      "source": [
        "sns.boxplot(df1[df1['Y'] == 0]['A1.2. How old are you?'])#,bins = bins,kde = True)"
      ],
      "outputs": [],
      "metadata": {}
    },
    {
      "cell_type": "code",
      "execution_count": null,
      "source": [
        "bar1(num = 0, title = 'Location of People who are not financially included')"
      ],
      "outputs": [],
      "metadata": {}
    },
    {
      "cell_type": "markdown",
      "source": [
        "* People who have access to mobile money but not financial services"
      ],
      "metadata": {}
    },
    {
      "cell_type": "code",
      "execution_count": null,
      "source": [
        "df1[df1['Y'] == 1][['Number of people in household','A1.2. How old are you?']].describe()"
      ],
      "outputs": [],
      "metadata": {}
    },
    {
      "cell_type": "code",
      "execution_count": null,
      "source": [
        "sns.boxplot(df1[df1['Y'] == 1]['A1.2. How old are you?'])#,bins = bins,kde = True)"
      ],
      "outputs": [],
      "metadata": {}
    },
    {
      "cell_type": "code",
      "execution_count": null,
      "source": [
        "bar1(1, title = 'Pepole with access to mobile money services by Departement')"
      ],
      "outputs": [],
      "metadata": {}
    },
    {
      "cell_type": "markdown",
      "source": [
        "* People who have access to other financial services but not mobile money."
      ],
      "metadata": {}
    },
    {
      "cell_type": "code",
      "execution_count": null,
      "source": [
        "df1[df1['Y'] == 2][['Number of people in household','A1.2. How old are you?']].describe()"
      ],
      "outputs": [],
      "metadata": {}
    },
    {
      "cell_type": "code",
      "execution_count": null,
      "source": [
        "sns.boxplot(df1[df1['Y'] == 2]['A1.2. How old are you?'])#,bins = bins,kde = True)"
      ],
      "outputs": [],
      "metadata": {}
    },
    {
      "cell_type": "code",
      "execution_count": null,
      "source": [
        "bar1(2, title = 'People with access to financial services (bank) by Departement')"
      ],
      "outputs": [],
      "metadata": {}
    },
    {
      "cell_type": "markdown",
      "source": [
        "* People who have access to financial services and mobile money at the same time . "
      ],
      "metadata": {}
    },
    {
      "cell_type": "code",
      "execution_count": null,
      "source": [
        "df1[df1['Y'] == 3][['Number of people in household','A1.2. How old are you?']].describe()"
      ],
      "outputs": [],
      "metadata": {}
    },
    {
      "cell_type": "code",
      "execution_count": null,
      "source": [
        "sns.boxplot(df1[df1['Y'] == 3]['A1.2. How old are you?'])#,bins = bins,kde = True)"
      ],
      "outputs": [],
      "metadata": {}
    },
    {
      "cell_type": "code",
      "execution_count": null,
      "source": [
        "bar1(3, title = 'People who have access to financial services and mobile money at the same time ')"
      ],
      "outputs": [],
      "metadata": {}
    },
    {
      "cell_type": "markdown",
      "source": [
        "## Target / Bank Account"
      ],
      "metadata": {}
    },
    {
      "cell_type": "code",
      "execution_count": null,
      "source": [
        "plot_bar(df1, columns = 'Y',  title='Do have a bank account?',hue  ='J2a. Do you currently have a bank account in your name in a bank or credit institution ? It could also be a joint/group account on which your name appears?',labels = ['No','Yes'] )"
      ],
      "outputs": [],
      "metadata": {}
    },
    {
      "cell_type": "markdown",
      "source": [
        "## Target / Level of Education"
      ],
      "metadata": {}
    },
    {
      "cell_type": "code",
      "execution_count": null,
      "source": [
        "ax = ((df1[df1['Y']==0].groupby(['A.1.4aa What  is the highest level of education achieved?'])['Y'].count()*100)/(df1.groupby(['A.1.4aa What  is the highest level of education achieved?'])['Y'].count())).sort_values(ascending = False).rename(index = {1: 'No Schooling',\r\n",
        " 2.0: 'Alphabetized',\r\n",
        " 3.0: 'Preschool',\r\n",
        " 4.0: 'Primary',\r\n",
        " 5.0: 'Secondary (1st Cycle)',\r\n",
        " 6.0: 'Secondary (2nd Cycle)',\r\n",
        " 7.0: 'University/Highr Education'}).plot.bar()\r\n",
        "for bar in ax.patches:\r\n",
        "    ax.annotate('{:.1f}%'.format(bar.get_height()),\r\n",
        "                   (bar.get_x() + bar.get_width() / 2,\r\n",
        "                    bar.get_height()), ha='center', va='center',\r\n",
        "                   size=15, xytext=(0, 8),\r\n",
        "                   textcoords='offset points')  "
      ],
      "outputs": [],
      "metadata": {}
    },
    {
      "cell_type": "code",
      "execution_count": null,
      "source": [
        "ax = ((df1[df1['Y']==1].groupby(['A.1.4aa What  is the highest level of education achieved?'])['Y'].count()*100)/(df1.groupby(['A.1.4aa What  is the highest level of education achieved?'])['Y'].count())).sort_values(ascending = False).rename(index = {1: 'No Schooling',\r\n",
        " 2.0: 'Alphabetized',\r\n",
        " 3.0: 'Preschool',\r\n",
        " 4.0: 'Primary',\r\n",
        " 5.0: 'Secondary (1st Cycle)',\r\n",
        " 6.0: 'Secondary (2nd Cycle)',\r\n",
        " 7.0: 'University/Highr Education'}).plot.bar()\r\n",
        "for bar in ax.patches:\r\n",
        "    ax.annotate('{:.1f}%'.format(bar.get_height()),\r\n",
        "                   (bar.get_x() + bar.get_width() / 2,\r\n",
        "                    bar.get_height()), ha='center', va='center',\r\n",
        "                   size=15, xytext=(0, 8),\r\n",
        "                   textcoords='offset points') "
      ],
      "outputs": [],
      "metadata": {}
    },
    {
      "cell_type": "code",
      "execution_count": null,
      "source": [
        "ax = ((df1[df1['Y']==2].groupby(['A.1.4aa What  is the highest level of education achieved?'])['Y'].count()*100)/(df1.groupby(['A.1.4aa What  is the highest level of education achieved?'])['Y'].count())).sort_values(ascending = False).rename(index = {1: 'No Schooling',\r\n",
        " 2.0: 'Alphabetized',\r\n",
        " 3.0: 'Preschool',\r\n",
        " 4.0: 'Primary',\r\n",
        " 5.0: 'Secondary (1st Cycle)',\r\n",
        " 6.0: 'Secondary (2nd Cycle)',\r\n",
        " 7.0: 'University/Highr Education'}).plot.bar()\r\n",
        "for bar in ax.patches:\r\n",
        "    ax.annotate('{:.1f}%'.format(bar.get_height()),\r\n",
        "                   (bar.get_x() + bar.get_width() / 2,\r\n",
        "                    bar.get_height()), ha='center', va='center',\r\n",
        "                   size=15, xytext=(0, 8),\r\n",
        "                   textcoords='offset points')  "
      ],
      "outputs": [],
      "metadata": {}
    },
    {
      "cell_type": "code",
      "execution_count": null,
      "source": [
        "ax  = ((df1[df1['Y']==3].groupby(['A.1.4aa What  is the highest level of education achieved?'])['Y'].count()*100)/(df1.groupby(['A.1.4aa What  is the highest level of education achieved?'])['Y'].count())).sort_values(ascending = False).rename(index = {1: 'No Schooling',\r\n",
        " 2.0: 'Alphabetized',\r\n",
        " 3.0: 'Preschool',\r\n",
        " 4.0: 'Primary',\r\n",
        " 5.0: 'Secondary (1st Cycle)',\r\n",
        " 6.0: 'Secondary (2nd Cycle)',\r\n",
        " 7.0: 'University/Highr Education'}).plot.bar()\r\n",
        "for bar in ax.patches:\r\n",
        "    ax.annotate('{:.1f}%'.format(bar.get_height()),\r\n",
        "                   (bar.get_x() + bar.get_width() / 2,\r\n",
        "                    bar.get_height()), ha='center', va='center',\r\n",
        "                   size=15, xytext=(0, 8),\r\n",
        "                   textcoords='offset points')  "
      ],
      "outputs": [],
      "metadata": {}
    },
    {
      "cell_type": "markdown",
      "source": [
        "## Target / Departement"
      ],
      "metadata": {}
    },
    {
      "cell_type": "code",
      "execution_count": null,
      "source": [
        "\r\n",
        "(df1.groupby(['DEPARTMENT', 'Y'])['Y'].count()/df1.groupby(['DEPARTMENT'])['Y'].count()).unstack().plot.bar(stacked=True).set_xticklabels(p.values())\r\n",
        "plt.legend(title= 'legend', loc='lower left', labels =['No Access to financial services at all ' , 'Access to mobile money' , 'Access to Financial Services not mobile money', 'Access to Financial services (All)'] )\r\n",
        "plt.title('Repartition par departement des diffenrents targets')\r\n",
        "fig = plt.gcf()\r\n",
        "fig.set_size_inches(20, 10)\r\n",
        "\r\n",
        "\r\n",
        "\r\n",
        "  "
      ],
      "outputs": [],
      "metadata": {}
    },
    {
      "cell_type": "code",
      "execution_count": null,
      "source": [
        "dp_table = pd.crosstab(df1['Y'],df1['DEPARTMENT'],margins = False)\r\n",
        "display(dp_table.rename( index = ano,columns=p))\r\n",
        "stat, pvalue, dof, expected = chi2_contingency(dp_table)\r\n",
        "alpha = 0.05\r\n",
        "print(\"pvalue is \" + str(pvalue))\r\n",
        "if pvalue <= alpha:\r\n",
        "    print('Dependent (reject H0)')\r\n",
        "else:\r\n",
        "    print('Independent (H0 holds true)')"
      ],
      "outputs": [],
      "metadata": {}
    },
    {
      "cell_type": "code",
      "execution_count": null,
      "source": [
        "ax = ((df1[df1['Y'] == 0].groupby(['DEPARTMENT', 'Y'])['Y'].count()/df1.groupby(['DEPARTMENT'])['C9. What is your TOTAL PERSONAL MONTHLY INCOME'].count())*100).sort_values(ascending = False).reset_index(level = 1).replace({'Y':ano}).rename(index={1: 'Ouest',\r\n",
        " 2.0: 'Artibonite',\r\n",
        " 3.0: 'Centre',\r\n",
        " 4.0: 'GrandAnse',\r\n",
        " 5.0: 'Nippes',\r\n",
        " 6.0: 'Nord',\r\n",
        " 7.0: 'Nord-Est',\r\n",
        " 8.0: 'Nord-Ouest',\r\n",
        " 9.0: 'Reste-Ouest',\r\n",
        " 10.0: 'Sud',\r\n",
        " 11.0: 'Sud-Est'}).plot.bar()\r\n",
        "fig = plt.gcf()\r\n",
        "fig.set_size_inches(15, 10)\r\n",
        " \r\n",
        "for bar in ax.patches:\r\n",
        "    ax.annotate('{:.1f}%'.format(bar.get_height()),\r\n",
        "                   (bar.get_x() + bar.get_width() / 2,\r\n",
        "                    bar.get_height()), ha='center', va='center',\r\n",
        "                   size=15, xytext=(0, 8),\r\n",
        "                   textcoords='offset points')  "
      ],
      "outputs": [],
      "metadata": {}
    },
    {
      "cell_type": "markdown",
      "source": [
        "* In the graph and table above we can report that Nord-Ouest, Centre ,Artibonite and Nord-est are the top 4 departement in Haiti where the most people surveyed has no access to financial services\r\n",
        "* Of all the states in the country, None of them are below 50 %. this is pretty high "
      ],
      "metadata": {}
    },
    {
      "cell_type": "code",
      "execution_count": null,
      "source": [
        "ax = ((df1[df1['Y'] == 1].groupby(['DEPARTMENT', 'Y'])['Y'].count()/df1.groupby(['DEPARTMENT'])['C9. What is your TOTAL PERSONAL MONTHLY INCOME'].count())*100).sort_values(ascending = False).reset_index(level = 1).replace({'Y':ano}).rename(index={1: 'Ouest',\r\n",
        " 2.0: 'Artibonite',\r\n",
        " 3.0: 'Centre',\r\n",
        " 4.0: 'GrandAnse',\r\n",
        " 5.0: 'Nippes',\r\n",
        " 6.0: 'Nord',\r\n",
        " 7.0: 'Nord-Est',\r\n",
        " 8.0: 'Nord-Ouest',\r\n",
        " 9.0: 'Reste-Ouest',\r\n",
        " 10.0: 'Sud',\r\n",
        " 11.0: 'Sud-Est'}).plot.bar()\r\n",
        "fig = plt.gcf()\r\n",
        "fig.set_size_inches(15, 10) \r\n",
        "plt.title(\"% of individuals who have access to mobile money only by Departement\")\r\n",
        "for bar in ax.patches:\r\n",
        "    ax.annotate('{:.1f}%'.format(bar.get_height()),\r\n",
        "                   (bar.get_x() + bar.get_width() / 2,\r\n",
        "                    bar.get_height()), ha='center', va='center',\r\n",
        "                   size=15, xytext=(0, 8),\r\n",
        "                   textcoords='offset points')  "
      ],
      "outputs": [],
      "metadata": {}
    },
    {
      "cell_type": "markdown",
      "source": [
        "* With no surprise, Ouest, Sud-est , Sud and Nord are the top states  with the most people that have access to mobile money but the proportion do not exceed 30 %, it is still very low."
      ],
      "metadata": {}
    },
    {
      "cell_type": "markdown",
      "source": [
        "## Gouvernement ID / Department"
      ],
      "metadata": {}
    },
    {
      "cell_type": "markdown",
      "source": [
        "* Here,we want to see if the access to identification by departement follow the same as the target by departement.\r\n",
        "    - National identity card/Voter Card"
      ],
      "metadata": {}
    },
    {
      "cell_type": "code",
      "execution_count": null,
      "source": [
        "ax = ((df1[df1['A1.6. Which of these documents do you have in your name: %kishselectedName% ?:3.  National identity card/Voter Card']==0].groupby(['DEPARTMENT'])['Y'].count()*100)/(df1.groupby(['DEPARTMENT'])['Y'].count())).sort_values(ascending = False).rename(index={1: 'Ouest',\r\n",
        " 2.0: 'Artibonite',\r\n",
        " 3.0: 'Centre',\r\n",
        " 4.0: 'GrandAnse',\r\n",
        " 5.0: 'Nippes',\r\n",
        " 6.0: 'Nord',\r\n",
        " 7.0: 'Nord-Est',\r\n",
        " 8.0: 'Nord-Ouest',\r\n",
        " 9.0: 'Reste-Ouest',\r\n",
        " 10.0: 'Sud',\r\n",
        " 11.0: 'Sud-Est'}).plot.bar()\r\n",
        "plt.title('% of individuals who dont have ID Card') \r\n",
        "fig = plt.gcf()\r\n",
        "fig.set_size_inches(15, 10) \r\n",
        "\r\n",
        "for bar in ax.patches:\r\n",
        "    ax.annotate('{:.1f}%'.format(bar.get_height()),\r\n",
        "                   (bar.get_x() + bar.get_width() / 2,\r\n",
        "                    bar.get_height()), ha='center', va='center',\r\n",
        "                   size=15, xytext=(0, 8),\r\n",
        "                   textcoords='offset points')  "
      ],
      "outputs": [],
      "metadata": {}
    },
    {
      "cell_type": "markdown",
      "source": [
        "This graph show that Centre,Artibonite,Nord-ouest are in the top 4 of department with more the 25% of the people dont have Gouvernement ID. Non-Acces to identification could be a barrier for individual who wants to use financial services. "
      ],
      "metadata": {}
    },
    {
      "cell_type": "code",
      "execution_count": null,
      "source": [
        "ax = (df1[df1['A1.6. Which of these documents do you have in your name: %kishselectedName% ?:1. Birth certificate']==0].groupby(['DEPARTMENT'])['Y'].count()/(df1.groupby(['DEPARTMENT'])['Y'].count())*100).sort_values(ascending = False).rename(index={1: 'Ouest',\r\n",
        " 2.0: 'Artibonite',\r\n",
        " 3.0: 'Centre',\r\n",
        " 4.0: 'GrandAnse',\r\n",
        " 5.0: 'Nippes',\r\n",
        " 6.0: 'Nord',\r\n",
        " 7.0: 'Nord-Est',\r\n",
        " 8.0: 'Nord-Ouest',\r\n",
        " 9.0: 'Reste-Ouest',\r\n",
        " 10.0: 'Sud',\r\n",
        " 11.0: 'Sud-Est'}).plot.bar()\r\n",
        "plt.title('% of individuals who dont have birth certificates') \r\n",
        "fig = plt.gcf()\r\n",
        "fig.set_size_inches(15, 10) \r\n",
        "\r\n",
        "for bar in ax.patches:\r\n",
        "    ax.annotate('{:.1f}%'.format(bar.get_height()),\r\n",
        "                   (bar.get_x() + bar.get_width() / 2,\r\n",
        "                    bar.get_height()), ha='center', va='center',\r\n",
        "                   size=15, xytext=(0, 8),\r\n",
        "                   textcoords='offset points') "
      ],
      "outputs": [],
      "metadata": {}
    },
    {
      "cell_type": "markdown",
      "source": [
        "This graph show that GrandAnse, Sud, Centre and Artibonite are in the top 4 of department with more the 9% of the people don't have access to Birth certificate.  "
      ],
      "metadata": {}
    },
    {
      "cell_type": "markdown",
      "source": [],
      "metadata": {}
    },
    {
      "cell_type": "markdown",
      "source": [
        "## Level of education / Access to Communication Devices"
      ],
      "metadata": {}
    },
    {
      "cell_type": "code",
      "execution_count": null,
      "source": [
        "ax = ((df1[df1['E2. Now I would like to obtain information on the communication devices or services you use or own.?: Basic mobile phone']==0].groupby(['A.1.4aa What  is the highest level of education achieved?'])['Y'].count()*100)/(df1.groupby(['A.1.4aa What  is the highest level of education achieved?'])['Y'].count())).sort_values(ascending = False).rename(index = {1: 'No Schooling',\r\n",
        " 2.0: 'Alphabetized',\r\n",
        " 3.0: 'Preschool',\r\n",
        " 4.0: 'Primary',\r\n",
        " 5.0: 'Secondary (1st Cycle)',\r\n",
        " 6.0: 'Secondary (2end Cycle)',\r\n",
        " 7.0: 'University/Highr Education'}).plot.bar()\r\n",
        "for bar in ax.patches:\r\n",
        "    ax.annotate('{:.1f}%'.format(bar.get_height()),\r\n",
        "                   (bar.get_x() + bar.get_width() / 2,\r\n",
        "                    bar.get_height()), ha='center', va='center',\r\n",
        "                   size=15, xytext=(0, 8),\r\n",
        "                   textcoords='offset points') "
      ],
      "outputs": [],
      "metadata": {}
    },
    {
      "cell_type": "code",
      "execution_count": null,
      "source": [
        "ax = ((df1[df1['E2. Now I would like to obtain information on the communication devices or services you use or own.?: Basic mobile phone']==1].groupby(['A.1.4aa What  is the highest level of education achieved?'])['Y'].count()*100)/(df1.groupby(['A.1.4aa What  is the highest level of education achieved?'])['Y'].count())).sort_values(ascending = False).rename(index = {1: 'No Schooling',\r\n",
        " 2.0: 'Alphabetized',\r\n",
        " 3.0: 'Preschool',\r\n",
        " 4.0: 'Primary',\r\n",
        " 5.0: 'Secondary (1st Cycle)',\r\n",
        " 6.0: 'Secondary (2nd Cycle)',\r\n",
        " 7.0: 'University/Highr Education'}).plot.bar()\r\n",
        "plt.title('% Percent of individuals who use basic mobile phone by departement') \r\n",
        "fig = plt.gcf()\r\n",
        "fig.set_size_inches(15, 10)  \r\n",
        "for bar in ax.patches:\r\n",
        "    ax.annotate('{:.1f}%'.format(bar.get_height()),\r\n",
        "                   (bar.get_x() + bar.get_width() / 2,\r\n",
        "                    bar.get_height()), ha='center', va='center',\r\n",
        "                   size=15, xytext=(0, 8),\r\n",
        "                   textcoords='offset points')  "
      ],
      "outputs": [],
      "metadata": {}
    },
    {
      "cell_type": "code",
      "execution_count": null,
      "source": [
        "plots = ((df1[df1['E2. Now I would like to obtain information on the communication devices or services you use or own.?: Smartphone (mobile)']==0].groupby(['A.1.4aa What  is the highest level of education achieved?'])['Y'].count()*100)/(df1.groupby(['A.1.4aa What  is the highest level of education achieved?'])['Y'].count())).sort_values(ascending = False).rename(index = {1: 'No Schooling',\r\n",
        " 2.0: 'Alphabetized',\r\n",
        " 3.0: 'Preschool',\r\n",
        " 4.0: 'Primary',\r\n",
        " 5.0: 'Secondary (1st Cycle)',\r\n",
        " 6.0: 'Secondary (2nd Cycle)',\r\n",
        " 7.0: 'University/Highr Education'}).plot.bar()\r\n",
        "fig = plt.gcf()\r\n",
        "fig.set_size_inches(15, 10) \r\n",
        "plt.title('% of individuals who do not use Smartphones by education Level')\r\n",
        "for bar in plots.patches:\r\n",
        "    plots.annotate('{:.1f}%'.format(bar.get_height()),\r\n",
        "                   (bar.get_x() + bar.get_width() / 2,\r\n",
        "                    bar.get_height()), ha='center', va='center',\r\n",
        "                   size=15, xytext=(0, 8),\r\n",
        "                   textcoords='offset points')"
      ],
      "outputs": [],
      "metadata": {}
    },
    {
      "cell_type": "code",
      "execution_count": null,
      "source": [
        "ax = ((df1[df1['E2. Now I would like to obtain information on the communication devices or services you use or own.?: Smartphone (mobile)']==1].groupby(['A.1.4aa What  is the highest level of education achieved?'])['Y'].count()*100)/(df1.groupby(['A.1.4aa What  is the highest level of education achieved?'])['Y'].count())).sort_values(ascending = False).rename(index = {1: 'No Schooling',\r\n",
        " 2.0: 'Alphabetized',\r\n",
        " 3.0: 'Preschool',\r\n",
        " 4.0: 'Primary',\r\n",
        " 5.0: 'Secondary (1st Cycle)',\r\n",
        " 6.0: 'Secondary (2nd Cycle)',\r\n",
        " 7.0: 'University/Higher Education'}).plot.bar()\r\n",
        "plt.title(\"% of individuals who use Smartphone by Education level\")\r\n",
        "fig = plt.gcf()\r\n",
        "fig.set_size_inches(15, 10) \r\n",
        "for bar in ax.patches:\r\n",
        "    ax.annotate('{:.1f}%'.format(bar.get_height()),\r\n",
        "                   (bar.get_x() + bar.get_width() / 2,\r\n",
        "                    bar.get_height()), ha='center', va='center',\r\n",
        "                   size=15, xytext=(0, 8),\r\n",
        "                   textcoords='offset points')  "
      ],
      "outputs": [],
      "metadata": {}
    },
    {
      "cell_type": "code",
      "execution_count": null,
      "source": [
        "ax = ((df1[df1['E2. Now I would like to obtain information on the communication devices or services you use or own.?: Internet']==0].groupby(['A.1.4aa What  is the highest level of education achieved?'])['Y'].count()*100)/(df1.groupby(['A.1.4aa What  is the highest level of education achieved?'])['Y'].count())).sort_values(ascending = False).rename(index = {1: 'No Schooling',\r\n",
        " 2.0: 'Alphabetized',\r\n",
        " 3.0: 'Preschool',\r\n",
        " 4.0: 'Primary',\r\n",
        " 5.0: 'Secondary (1st Cycle)',\r\n",
        " 6.0: 'Secondary (2nd Cycle)',\r\n",
        " 7.0: 'University/Higher Education'}).to_frame().plot.bar()\r\n",
        "\r\n",
        "fig = plt.gcf()\r\n",
        "fig.set_size_inches(15, 10) \r\n",
        "plt.title(\"% of individuals who do not use Internet by education level\")\r\n",
        "for bar in ax.patches:\r\n",
        "    ax.annotate('{:.1f}%'.format(bar.get_height()),\r\n",
        "                   (bar.get_x() + bar.get_width() / 2,\r\n",
        "                    bar.get_height()), ha='center', va='center',\r\n",
        "                   size=15, xytext=(0, 8),\r\n",
        "                   textcoords='offset points')  "
      ],
      "outputs": [],
      "metadata": {}
    },
    {
      "cell_type": "code",
      "execution_count": null,
      "source": [
        "ax = ((df1[df1['E2. Now I would like to obtain information on the communication devices or services you use or own.?: Internet']==1].groupby(['A.1.4aa What  is the highest level of education achieved?'])['Y'].count()*100)/(df1.groupby(['A.1.4aa What  is the highest level of education achieved?'])['Y'].count())).sort_values(ascending = False).rename(index = {1: 'No Schooling',\r\n",
        " 2.0: 'Alphabetized',\r\n",
        " 3.0: 'Preschool',\r\n",
        " 4.0: 'Primary',\r\n",
        " 5.0: 'Secondary (1st Cycle)',\r\n",
        " 6.0: 'Secondary (2nd Cycle)',\r\n",
        " 7.0: 'University/Higher Education'}).plot.bar()\r\n",
        "plt.title('% of individuals who have access to Internet by Education Level')\r\n",
        "fig = plt.gcf()\r\n",
        "fig.set_size_inches(15, 10) \r\n",
        "for bar in ax.patches:\r\n",
        "    ax.annotate('{:.1f}%'.format(bar.get_height()),\r\n",
        "                   (bar.get_x() + bar.get_width() / 2,\r\n",
        "                    bar.get_height()), ha='center', va='center',\r\n",
        "                   size=15, xytext=(0, 8),\r\n",
        "                   textcoords='offset points') "
      ],
      "outputs": [],
      "metadata": {}
    },
    {
      "cell_type": "code",
      "execution_count": null,
      "source": [
        "#df1.to_csv('df_to_scaled.csv')"
      ],
      "outputs": [],
      "metadata": {}
    },
    {
      "cell_type": "markdown",
      "source": [
        "# Reflections\r\n",
        "## Summary of Data Analysis\r\n",
        "- What insights should the user takeaway from EDA.\r\n",
        " \r\n",
        "\r\n",
        " \r\n",
        "\r\n",
        "## Questions unanswered\r\n",
        "- What aspects of the research question were we unable to answer and why?\r\n",
        "\r\n",
        "## Recommendations\r\n",
        "- What should the reader do next with this information?\r\n",
        "\r\n",
        "## Next Steps\r\n",
        "- What will the analyst do next based on the analysis?"
      ],
      "metadata": {
        "id": "IUywflAl9L3W"
      }
    }
  ]
}